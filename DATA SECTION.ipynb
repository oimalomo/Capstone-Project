{
    "nbformat_minor": 1, 
    "cells": [
        {
            "source": "# CHOICE LOCATIONS FOR FINANCIAL SERVICE CENTRES IN EDO STATE, NIGERIA", 
            "cell_type": "markdown", 
            "metadata": {
                "collapsed": true
            }
        }, 
        {
            "source": "### DATA SECTION", 
            "cell_type": "markdown", 
            "metadata": {}
        }, 
        {
            "source": "This project work is for a prospective FSC applicant who wishes to have a location in Edo State, Nigeria. I have combed the web for a dataset of remote locations and their geographical coordinates in Edo State, but the best I could get was a list of the locations alone. The url to this list is [here](http://www.amicidilazzaro.it/index.php/all-villages-town-and-cities-in-edo-state/).  \n  \nThe list of locations was obtained in a raw form, and it had no structure at all. I derived the data from the web page using the BeautifulSoup library and the \u2018lxml\u2019 parser. Even after derivation of the data, I had to perform several string operations on it before I could get a somewhat formatted copy. The formatted list had 1,391 rows. Here is a sample of the formatted list.  \n  \n' '|Town\n--| -----\n0|Akuku\n1|Ewan\n2|Utua-Ufa\n3|Igarra\n4|Samorika\n5|Sasaro\n6|Ago-Ogbodo\n7|Ijaja\n8|Okpe\n9|Oloma  \n  \n\n I must state that all geolocation/geocoding lookup were done using Google API. I attempted to use the Nominatim OSM tool. After 1 iteration with Nominatim, which lasted 2 hours, it did not return any coordinate. This made me opt for Google API, which turned out to be relatively faster, and it returned the desired coordinates.  \n   \nThe geocoding function returns a column which concatenates the location formatted address, latitude and longitude. \n  \n''|Town\t|Coord\t \n--|---|---\n0\t|Akuku|\t['Edo, Nigeria', 6.5438101, 5.898713900000001]\t \n1\t|Ewan|\t['Edo, Nigeria', 6.5438101, 5.898713900000001]\t \n2\t|Utua-Ufa|\t['Utua, Nigeria', 7.280911000000001, 6.102346799999999]\t \n3\t|Igarra|\t['Igarra, Nigeria', 7.2754704, 6.107645000000001]\t \n4\t|Samorika|\t['Nigeria', 7.399570300000001, 6.1348042]\t \n5\t|Sasaro|\t['Edo, Nigeria', 6.5438101, 5.898713900000001]\t \n6\t|Ago-Ogbodo|\t['Ogbodo, Nigeria', 7.253213199999999, 5.9353685]\t \n7\t|Ijaja|\t['Edo, Nigeria', 6.5438101, 5.898713900000001]\t \n8\t|Okpe|\t['Okpe, Nigeria', 7.284576399999999, 6.029459]\t \n9\t|Oloma|\t['Edo, Nigeria', 6.5438101, 5.898713900000001]\t \n  \n  \nAfter further string operations are performed on the \u2018Coord\u2019 column to separate the components, the resulting dataframe looks like this.\n\n''|\tTown|\tLocation|\tLatitude|\tLongitude\n--|--|--|--|--\n0|\tAkuku|\tEdo, Nigeria|\t6.5438101|\t5.8987139\n1|\tEwan|\tEdo, Nigeria|\t6.5438101|\t5.8987139\n2|\tUtua-Ufa|\tUtua, Nigeria|\t7.280911|\t6.1023468\n3|\tIgarra|\tIgarra, Nigeria|\t7.2754704|\t6.107645\n4|\tSamorika|\tNigeria|\t7.3995703|\t6.134804\n5|\tSasaro|\tEdo, Nigeria|\t6.5438101|\t5.8987139\n6|\tAgo-Ogbodo|\tOgbodo, Nigeria|\t7.2532132|\t5.935368\n7|\tIjaja|\tEdo, Nigeria|\t6.5438101|\t5.8987139\n8|\tOkpe|\tOkpe, Nigeria|\t7.2845764|\t6.02945\n9|\tOloma|\tEdo, Nigeria|\t6.5438101|\t5.8987139\n\n  \nOne major requirement of the FSC solution is that few or no bank must be within 3km of the selected location. They also require that a police station, along with other businesses should preferably be within 3km of the selected location. These requirements thus perfectly position us to query the \u2018nearest venues\u2019 within 3km using the Google API.  \n  \nThe obtained geolocation data are passed into Google API to generate venues within 3km to each location. The result of that query yields a dataframe with sample shown below:  \n  \n''|Neighborhood\t|Neighborhood Latitude|\tNeighborhood Longitude|\tVenue|\tVenue Latitude|\tVenue Longitude|\tVenue Category\n--|--|--|--|--|--|--|--\n23|\tUtua-Ufa|\t7.280911|\t6.1023468|\tTotal Ibillo Petrol Service Station|\t7.2795305|\t6.1105203|\tgas_station\n24|\tUtua-Ufa|\t7.280911|\t6.1023468|\tKeystone Bank|\t7.276497|\t6.113958|\tbank\n25|\tUtua-Ufa|\t7.280911|\t6.1023468|\tUnity Bank Atm|\t7.2826535|\t6.1016443|\tschool\n\n  \n This is the data that I used to cluster the locations into groups, before inferences can be made.\n", 
            "cell_type": "markdown", 
            "attachments": {}, 
            "metadata": {}
        }, 
        {
            "execution_count": null, 
            "cell_type": "code", 
            "metadata": {}, 
            "outputs": [], 
            "source": ""
        }
    ], 
    "metadata": {
        "kernelspec": {
            "display_name": "Python 3.5", 
            "name": "python3", 
            "language": "python"
        }, 
        "language_info": {
            "mimetype": "text/x-python", 
            "nbconvert_exporter": "python", 
            "version": "3.5.5", 
            "name": "python", 
            "file_extension": ".py", 
            "pygments_lexer": "ipython3", 
            "codemirror_mode": {
                "version": 3, 
                "name": "ipython"
            }
        }
    }, 
    "nbformat": 4
}