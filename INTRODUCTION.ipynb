{
    "nbformat_minor": 1, 
    "cells": [
        {
            "source": "# CHOICE LOCATIONS FOR FINANCIAL SERVICE CENTRES (FSC) IN EDO STATE, NIGERIA", 
            "cell_type": "markdown", 
            "metadata": {
                "collapsed": true
            }
        }, 
        {
            "source": "### INTRODUCTION", 
            "cell_type": "markdown", 
            "metadata": {}
        }, 
        {
            "source": "It is widely known that the Nigerian economy is cash-driven. Financial transactions ranging from buying a bottle of water worth N100 (about USD0.27) to commercial transactions worth hundreds of million of Naira are largely settled by cash. The immediate effect of this problem is glaring in the fight against anti-terrorism and corruption, as some unscrupulous persons take undue advantage of this issue for diverse nefarious reasons.  \n  \nSeveral reports indicate that the major reason for this dilemma is that a large percentage of the Nigerian population are \u2018under-banked\u2019 or \u2018un-banked\u2019. These terms refer to those who do not do their financial transactions through banks basically because they are not literate or semi-literate. These reports also indicate that this group of persons are residents of rural or semi-urban locations. Most Nigerian banks do not have a presence in these areas because of uncertainty in business profitability and insecurity amongst other reasons.  \n  \nThe apex bank of Nigeria, Central Bank of Nigeria, recently designed a financial inclusion policy to bridge the divide between the financial sphere and the \u2018un-banked\u2019. This financial inclusion policy is a state where financial services are delivered by range of providers, mostly individuals or businesses in the private sector. Once licensed, the approved individuals or businesses will be able to administer basic banking transactions in a rural or semi-urban location.  \n  \nIt is usually a dilemma for prospective businesses to choose a location to operate their Financial Services Centre (FSC). This is because several factors, such as proximity to a commercial bank or proximity to a police station, must be considered before settling for a location. It is not unusual for prospective FSCs to visit several locations before making a choice. This project tries to take away the guesswork involved, by limiting the choice to a range of locations.\n", 
            "cell_type": "markdown", 
            "metadata": {}
        }, 
        {
            "execution_count": null, 
            "cell_type": "code", 
            "metadata": {}, 
            "outputs": [], 
            "source": ""
        }
    ], 
    "metadata": {
        "kernelspec": {
            "display_name": "Python 3.5", 
            "name": "python3", 
            "language": "python"
        }, 
        "language_info": {
            "mimetype": "text/x-python", 
            "nbconvert_exporter": "python", 
            "version": "3.5.5", 
            "name": "python", 
            "file_extension": ".py", 
            "pygments_lexer": "ipython3", 
            "codemirror_mode": {
                "version": 3, 
                "name": "ipython"
            }
        }
    }, 
    "nbformat": 4
}